{
 "cells": [
  {
   "cell_type": "code",
   "execution_count": 1,
   "metadata": {},
   "outputs": [],
   "source": [
    "import numpy as np\n",
    "import pandas as pd\n",
    "from sklearn.model_selection import train_test_split\n",
    "from sklearn.preprocessing import LabelEncoder, MinMaxScaler"
   ]
  },
  {
   "cell_type": "code",
   "execution_count": 2,
   "metadata": {},
   "outputs": [],
   "source": [
    "data = pd.read_csv(\"stroke.csv\", index_col=0)"
   ]
  },
  {
   "cell_type": "code",
   "execution_count": 3,
   "metadata": {},
   "outputs": [
    {
     "data": {
      "text/html": [
       "<div>\n",
       "<style scoped>\n",
       "    .dataframe tbody tr th:only-of-type {\n",
       "        vertical-align: middle;\n",
       "    }\n",
       "\n",
       "    .dataframe tbody tr th {\n",
       "        vertical-align: top;\n",
       "    }\n",
       "\n",
       "    .dataframe thead th {\n",
       "        text-align: right;\n",
       "    }\n",
       "</style>\n",
       "<table border=\"1\" class=\"dataframe\">\n",
       "  <thead>\n",
       "    <tr style=\"text-align: right;\">\n",
       "      <th></th>\n",
       "      <th>gender</th>\n",
       "      <th>age</th>\n",
       "      <th>hypertension</th>\n",
       "      <th>alcohol_intake</th>\n",
       "      <th>heart_disease</th>\n",
       "      <th>ever_married</th>\n",
       "      <th>work_type</th>\n",
       "      <th>Residence_type</th>\n",
       "      <th>avg_glucose_level</th>\n",
       "      <th>bmi</th>\n",
       "      <th>smoking_status</th>\n",
       "      <th>stroke</th>\n",
       "    </tr>\n",
       "    <tr>\n",
       "      <th>id</th>\n",
       "      <th></th>\n",
       "      <th></th>\n",
       "      <th></th>\n",
       "      <th></th>\n",
       "      <th></th>\n",
       "      <th></th>\n",
       "      <th></th>\n",
       "      <th></th>\n",
       "      <th></th>\n",
       "      <th></th>\n",
       "      <th></th>\n",
       "      <th></th>\n",
       "    </tr>\n",
       "  </thead>\n",
       "  <tbody>\n",
       "    <tr>\n",
       "      <th>9046</th>\n",
       "      <td>Male</td>\n",
       "      <td>67.0</td>\n",
       "      <td>147</td>\n",
       "      <td>2</td>\n",
       "      <td>1</td>\n",
       "      <td>Yes</td>\n",
       "      <td>Private</td>\n",
       "      <td>Urban</td>\n",
       "      <td>228.69</td>\n",
       "      <td>36.6</td>\n",
       "      <td>formerly smoked</td>\n",
       "      <td>1</td>\n",
       "    </tr>\n",
       "    <tr>\n",
       "      <th>51676</th>\n",
       "      <td>Female</td>\n",
       "      <td>61.0</td>\n",
       "      <td>135</td>\n",
       "      <td>4</td>\n",
       "      <td>0</td>\n",
       "      <td>Yes</td>\n",
       "      <td>Self-employed</td>\n",
       "      <td>Rural</td>\n",
       "      <td>202.21</td>\n",
       "      <td>NaN</td>\n",
       "      <td>never smoked</td>\n",
       "      <td>1</td>\n",
       "    </tr>\n",
       "    <tr>\n",
       "      <th>31112</th>\n",
       "      <td>Male</td>\n",
       "      <td>80.0</td>\n",
       "      <td>115</td>\n",
       "      <td>3</td>\n",
       "      <td>1</td>\n",
       "      <td>Yes</td>\n",
       "      <td>Private</td>\n",
       "      <td>Rural</td>\n",
       "      <td>105.92</td>\n",
       "      <td>32.5</td>\n",
       "      <td>never smoked</td>\n",
       "      <td>1</td>\n",
       "    </tr>\n",
       "    <tr>\n",
       "      <th>60182</th>\n",
       "      <td>Female</td>\n",
       "      <td>49.0</td>\n",
       "      <td>125</td>\n",
       "      <td>2</td>\n",
       "      <td>0</td>\n",
       "      <td>Yes</td>\n",
       "      <td>Private</td>\n",
       "      <td>Urban</td>\n",
       "      <td>171.23</td>\n",
       "      <td>34.4</td>\n",
       "      <td>smokes</td>\n",
       "      <td>1</td>\n",
       "    </tr>\n",
       "    <tr>\n",
       "      <th>1665</th>\n",
       "      <td>Female</td>\n",
       "      <td>79.0</td>\n",
       "      <td>130</td>\n",
       "      <td>3</td>\n",
       "      <td>0</td>\n",
       "      <td>Yes</td>\n",
       "      <td>Self-employed</td>\n",
       "      <td>Rural</td>\n",
       "      <td>174.12</td>\n",
       "      <td>24.0</td>\n",
       "      <td>never smoked</td>\n",
       "      <td>1</td>\n",
       "    </tr>\n",
       "  </tbody>\n",
       "</table>\n",
       "</div>"
      ],
      "text/plain": [
       "       gender   age  hypertension  alcohol_intake  heart_disease ever_married  \\\n",
       "id                                                                              \n",
       "9046     Male  67.0           147               2              1          Yes   \n",
       "51676  Female  61.0           135               4              0          Yes   \n",
       "31112    Male  80.0           115               3              1          Yes   \n",
       "60182  Female  49.0           125               2              0          Yes   \n",
       "1665   Female  79.0           130               3              0          Yes   \n",
       "\n",
       "           work_type Residence_type  avg_glucose_level   bmi   smoking_status  \\\n",
       "id                                                                              \n",
       "9046         Private          Urban             228.69  36.6  formerly smoked   \n",
       "51676  Self-employed          Rural             202.21   NaN     never smoked   \n",
       "31112        Private          Rural             105.92  32.5     never smoked   \n",
       "60182        Private          Urban             171.23  34.4           smokes   \n",
       "1665   Self-employed          Rural             174.12  24.0     never smoked   \n",
       "\n",
       "       stroke  \n",
       "id             \n",
       "9046        1  \n",
       "51676       1  \n",
       "31112       1  \n",
       "60182       1  \n",
       "1665        1  "
      ]
     },
     "execution_count": 3,
     "metadata": {},
     "output_type": "execute_result"
    }
   ],
   "source": [
    "data.head()"
   ]
  },
  {
   "cell_type": "code",
   "execution_count": 4,
   "metadata": {},
   "outputs": [
    {
     "name": "stdout",
     "output_type": "stream",
     "text": [
      "gender                object\n",
      "age                  float64\n",
      "hypertension           int64\n",
      "alcohol_intake         int64\n",
      "heart_disease          int64\n",
      "ever_married          object\n",
      "work_type             object\n",
      "Residence_type        object\n",
      "avg_glucose_level    float64\n",
      "bmi                  float64\n",
      "smoking_status        object\n",
      "stroke                 int64\n",
      "dtype: object\n"
     ]
    }
   ],
   "source": [
    "print(data.dtypes)"
   ]
  },
  {
   "cell_type": "markdown",
   "metadata": {},
   "source": [
    "Hypertension and alcohol are int datatype and needs to be converted to float"
   ]
  },
  {
   "cell_type": "code",
   "execution_count": 5,
   "metadata": {},
   "outputs": [],
   "source": [
    "data['hypertension'] = data['hypertension'].astype(float) \n",
    "data['alcohol_intake'] = data['alcohol_intake'].astype(float) "
   ]
  },
  {
   "cell_type": "code",
   "execution_count": 6,
   "metadata": {},
   "outputs": [
    {
     "name": "stdout",
     "output_type": "stream",
     "text": [
      "gender                object\n",
      "age                  float64\n",
      "hypertension         float64\n",
      "alcohol_intake       float64\n",
      "heart_disease          int64\n",
      "ever_married          object\n",
      "work_type             object\n",
      "Residence_type        object\n",
      "avg_glucose_level    float64\n",
      "bmi                  float64\n",
      "smoking_status        object\n",
      "stroke                 int64\n",
      "dtype: object\n"
     ]
    }
   ],
   "source": [
    "print(data.dtypes)"
   ]
  },
  {
   "cell_type": "code",
   "execution_count": 7,
   "metadata": {},
   "outputs": [],
   "source": [
    "data = data.drop(\"ever_married\" , axis=1)\n",
    "data = data.drop(\"work_type\" , axis=1)"
   ]
  },
  {
   "cell_type": "code",
   "execution_count": 8,
   "metadata": {},
   "outputs": [],
   "source": [
    "for column in data.columns:\n",
    "    if data[column].dtype == np.number:\n",
    "        continue\n",
    "    data[column] = LabelEncoder().fit_transform( data[column] )"
   ]
  },
  {
   "cell_type": "code",
   "execution_count": 9,
   "metadata": {},
   "outputs": [
    {
     "data": {
      "text/html": [
       "<div>\n",
       "<style scoped>\n",
       "    .dataframe tbody tr th:only-of-type {\n",
       "        vertical-align: middle;\n",
       "    }\n",
       "\n",
       "    .dataframe tbody tr th {\n",
       "        vertical-align: top;\n",
       "    }\n",
       "\n",
       "    .dataframe thead th {\n",
       "        text-align: right;\n",
       "    }\n",
       "</style>\n",
       "<table border=\"1\" class=\"dataframe\">\n",
       "  <thead>\n",
       "    <tr style=\"text-align: right;\">\n",
       "      <th></th>\n",
       "      <th>gender</th>\n",
       "      <th>age</th>\n",
       "      <th>hypertension</th>\n",
       "      <th>alcohol_intake</th>\n",
       "      <th>heart_disease</th>\n",
       "      <th>Residence_type</th>\n",
       "      <th>avg_glucose_level</th>\n",
       "      <th>bmi</th>\n",
       "      <th>smoking_status</th>\n",
       "      <th>stroke</th>\n",
       "    </tr>\n",
       "    <tr>\n",
       "      <th>id</th>\n",
       "      <th></th>\n",
       "      <th></th>\n",
       "      <th></th>\n",
       "      <th></th>\n",
       "      <th></th>\n",
       "      <th></th>\n",
       "      <th></th>\n",
       "      <th></th>\n",
       "      <th></th>\n",
       "      <th></th>\n",
       "    </tr>\n",
       "  </thead>\n",
       "  <tbody>\n",
       "    <tr>\n",
       "      <th>9046</th>\n",
       "      <td>1</td>\n",
       "      <td>67.0</td>\n",
       "      <td>147.0</td>\n",
       "      <td>2.0</td>\n",
       "      <td>1</td>\n",
       "      <td>1</td>\n",
       "      <td>228.69</td>\n",
       "      <td>36.6</td>\n",
       "      <td>1</td>\n",
       "      <td>1</td>\n",
       "    </tr>\n",
       "    <tr>\n",
       "      <th>51676</th>\n",
       "      <td>0</td>\n",
       "      <td>61.0</td>\n",
       "      <td>135.0</td>\n",
       "      <td>4.0</td>\n",
       "      <td>0</td>\n",
       "      <td>0</td>\n",
       "      <td>202.21</td>\n",
       "      <td>NaN</td>\n",
       "      <td>2</td>\n",
       "      <td>1</td>\n",
       "    </tr>\n",
       "    <tr>\n",
       "      <th>31112</th>\n",
       "      <td>1</td>\n",
       "      <td>80.0</td>\n",
       "      <td>115.0</td>\n",
       "      <td>3.0</td>\n",
       "      <td>1</td>\n",
       "      <td>0</td>\n",
       "      <td>105.92</td>\n",
       "      <td>32.5</td>\n",
       "      <td>2</td>\n",
       "      <td>1</td>\n",
       "    </tr>\n",
       "    <tr>\n",
       "      <th>60182</th>\n",
       "      <td>0</td>\n",
       "      <td>49.0</td>\n",
       "      <td>125.0</td>\n",
       "      <td>2.0</td>\n",
       "      <td>0</td>\n",
       "      <td>1</td>\n",
       "      <td>171.23</td>\n",
       "      <td>34.4</td>\n",
       "      <td>3</td>\n",
       "      <td>1</td>\n",
       "    </tr>\n",
       "    <tr>\n",
       "      <th>1665</th>\n",
       "      <td>0</td>\n",
       "      <td>79.0</td>\n",
       "      <td>130.0</td>\n",
       "      <td>3.0</td>\n",
       "      <td>0</td>\n",
       "      <td>0</td>\n",
       "      <td>174.12</td>\n",
       "      <td>24.0</td>\n",
       "      <td>2</td>\n",
       "      <td>1</td>\n",
       "    </tr>\n",
       "    <tr>\n",
       "      <th>56669</th>\n",
       "      <td>1</td>\n",
       "      <td>81.0</td>\n",
       "      <td>127.0</td>\n",
       "      <td>1.0</td>\n",
       "      <td>0</td>\n",
       "      <td>1</td>\n",
       "      <td>186.21</td>\n",
       "      <td>29.0</td>\n",
       "      <td>1</td>\n",
       "      <td>1</td>\n",
       "    </tr>\n",
       "    <tr>\n",
       "      <th>53882</th>\n",
       "      <td>1</td>\n",
       "      <td>74.0</td>\n",
       "      <td>120.0</td>\n",
       "      <td>2.0</td>\n",
       "      <td>1</td>\n",
       "      <td>0</td>\n",
       "      <td>70.09</td>\n",
       "      <td>27.4</td>\n",
       "      <td>2</td>\n",
       "      <td>1</td>\n",
       "    </tr>\n",
       "    <tr>\n",
       "      <th>10434</th>\n",
       "      <td>0</td>\n",
       "      <td>69.0</td>\n",
       "      <td>121.0</td>\n",
       "      <td>3.0</td>\n",
       "      <td>0</td>\n",
       "      <td>1</td>\n",
       "      <td>94.39</td>\n",
       "      <td>22.8</td>\n",
       "      <td>2</td>\n",
       "      <td>1</td>\n",
       "    </tr>\n",
       "    <tr>\n",
       "      <th>27419</th>\n",
       "      <td>0</td>\n",
       "      <td>59.0</td>\n",
       "      <td>125.0</td>\n",
       "      <td>2.0</td>\n",
       "      <td>0</td>\n",
       "      <td>0</td>\n",
       "      <td>76.15</td>\n",
       "      <td>NaN</td>\n",
       "      <td>0</td>\n",
       "      <td>1</td>\n",
       "    </tr>\n",
       "    <tr>\n",
       "      <th>60491</th>\n",
       "      <td>0</td>\n",
       "      <td>78.0</td>\n",
       "      <td>115.0</td>\n",
       "      <td>5.0</td>\n",
       "      <td>0</td>\n",
       "      <td>1</td>\n",
       "      <td>58.57</td>\n",
       "      <td>24.2</td>\n",
       "      <td>0</td>\n",
       "      <td>1</td>\n",
       "    </tr>\n",
       "  </tbody>\n",
       "</table>\n",
       "</div>"
      ],
      "text/plain": [
       "       gender   age  hypertension  alcohol_intake  heart_disease  \\\n",
       "id                                                                 \n",
       "9046        1  67.0         147.0             2.0              1   \n",
       "51676       0  61.0         135.0             4.0              0   \n",
       "31112       1  80.0         115.0             3.0              1   \n",
       "60182       0  49.0         125.0             2.0              0   \n",
       "1665        0  79.0         130.0             3.0              0   \n",
       "56669       1  81.0         127.0             1.0              0   \n",
       "53882       1  74.0         120.0             2.0              1   \n",
       "10434       0  69.0         121.0             3.0              0   \n",
       "27419       0  59.0         125.0             2.0              0   \n",
       "60491       0  78.0         115.0             5.0              0   \n",
       "\n",
       "       Residence_type  avg_glucose_level   bmi  smoking_status  stroke  \n",
       "id                                                                      \n",
       "9046                1             228.69  36.6               1       1  \n",
       "51676               0             202.21   NaN               2       1  \n",
       "31112               0             105.92  32.5               2       1  \n",
       "60182               1             171.23  34.4               3       1  \n",
       "1665                0             174.12  24.0               2       1  \n",
       "56669               1             186.21  29.0               1       1  \n",
       "53882               0              70.09  27.4               2       1  \n",
       "10434               1              94.39  22.8               2       1  \n",
       "27419               0              76.15   NaN               0       1  \n",
       "60491               1              58.57  24.2               0       1  "
      ]
     },
     "execution_count": 9,
     "metadata": {},
     "output_type": "execute_result"
    }
   ],
   "source": [
    "\n",
    "data.head(10)"
   ]
  },
  {
   "cell_type": "code",
   "execution_count": 10,
   "metadata": {},
   "outputs": [],
   "source": [
    "data = data.fillna(data.mean())"
   ]
  },
  {
   "cell_type": "code",
   "execution_count": 11,
   "metadata": {},
   "outputs": [],
   "source": [
    "X = data.drop([\"stroke\"], axis=1)\n",
    "Y = data[\"stroke\"]"
   ]
  },
  {
   "cell_type": "code",
   "execution_count": 12,
   "metadata": {},
   "outputs": [],
   "source": [
    "x_scaler = MinMaxScaler()\n",
    "x_scaler.fit(X)\n",
    "column_names = X.columns\n",
    "X[column_names]=x_scaler.transform(X)"
   ]
  },
  {
   "cell_type": "code",
   "execution_count": 13,
   "metadata": {},
   "outputs": [
    {
     "data": {
      "text/html": [
       "<div>\n",
       "<style scoped>\n",
       "    .dataframe tbody tr th:only-of-type {\n",
       "        vertical-align: middle;\n",
       "    }\n",
       "\n",
       "    .dataframe tbody tr th {\n",
       "        vertical-align: top;\n",
       "    }\n",
       "\n",
       "    .dataframe thead th {\n",
       "        text-align: right;\n",
       "    }\n",
       "</style>\n",
       "<table border=\"1\" class=\"dataframe\">\n",
       "  <thead>\n",
       "    <tr style=\"text-align: right;\">\n",
       "      <th></th>\n",
       "      <th>gender</th>\n",
       "      <th>age</th>\n",
       "      <th>hypertension</th>\n",
       "      <th>alcohol_intake</th>\n",
       "      <th>heart_disease</th>\n",
       "      <th>Residence_type</th>\n",
       "      <th>avg_glucose_level</th>\n",
       "      <th>bmi</th>\n",
       "      <th>smoking_status</th>\n",
       "      <th>stroke</th>\n",
       "    </tr>\n",
       "    <tr>\n",
       "      <th>id</th>\n",
       "      <th></th>\n",
       "      <th></th>\n",
       "      <th></th>\n",
       "      <th></th>\n",
       "      <th></th>\n",
       "      <th></th>\n",
       "      <th></th>\n",
       "      <th></th>\n",
       "      <th></th>\n",
       "      <th></th>\n",
       "    </tr>\n",
       "  </thead>\n",
       "  <tbody>\n",
       "    <tr>\n",
       "      <th>9046</th>\n",
       "      <td>1</td>\n",
       "      <td>67.0</td>\n",
       "      <td>147.0</td>\n",
       "      <td>2.0</td>\n",
       "      <td>1</td>\n",
       "      <td>1</td>\n",
       "      <td>228.69</td>\n",
       "      <td>36.600000</td>\n",
       "      <td>1</td>\n",
       "      <td>1</td>\n",
       "    </tr>\n",
       "    <tr>\n",
       "      <th>51676</th>\n",
       "      <td>0</td>\n",
       "      <td>61.0</td>\n",
       "      <td>135.0</td>\n",
       "      <td>4.0</td>\n",
       "      <td>0</td>\n",
       "      <td>0</td>\n",
       "      <td>202.21</td>\n",
       "      <td>29.102656</td>\n",
       "      <td>2</td>\n",
       "      <td>1</td>\n",
       "    </tr>\n",
       "    <tr>\n",
       "      <th>31112</th>\n",
       "      <td>1</td>\n",
       "      <td>80.0</td>\n",
       "      <td>115.0</td>\n",
       "      <td>3.0</td>\n",
       "      <td>1</td>\n",
       "      <td>0</td>\n",
       "      <td>105.92</td>\n",
       "      <td>32.500000</td>\n",
       "      <td>2</td>\n",
       "      <td>1</td>\n",
       "    </tr>\n",
       "    <tr>\n",
       "      <th>60182</th>\n",
       "      <td>0</td>\n",
       "      <td>49.0</td>\n",
       "      <td>125.0</td>\n",
       "      <td>2.0</td>\n",
       "      <td>0</td>\n",
       "      <td>1</td>\n",
       "      <td>171.23</td>\n",
       "      <td>34.400000</td>\n",
       "      <td>3</td>\n",
       "      <td>1</td>\n",
       "    </tr>\n",
       "    <tr>\n",
       "      <th>1665</th>\n",
       "      <td>0</td>\n",
       "      <td>79.0</td>\n",
       "      <td>130.0</td>\n",
       "      <td>3.0</td>\n",
       "      <td>0</td>\n",
       "      <td>0</td>\n",
       "      <td>174.12</td>\n",
       "      <td>24.000000</td>\n",
       "      <td>2</td>\n",
       "      <td>1</td>\n",
       "    </tr>\n",
       "  </tbody>\n",
       "</table>\n",
       "</div>"
      ],
      "text/plain": [
       "       gender   age  hypertension  alcohol_intake  heart_disease  \\\n",
       "id                                                                 \n",
       "9046        1  67.0         147.0             2.0              1   \n",
       "51676       0  61.0         135.0             4.0              0   \n",
       "31112       1  80.0         115.0             3.0              1   \n",
       "60182       0  49.0         125.0             2.0              0   \n",
       "1665        0  79.0         130.0             3.0              0   \n",
       "\n",
       "       Residence_type  avg_glucose_level        bmi  smoking_status  stroke  \n",
       "id                                                                           \n",
       "9046                1             228.69  36.600000               1       1  \n",
       "51676               0             202.21  29.102656               2       1  \n",
       "31112               0             105.92  32.500000               2       1  \n",
       "60182               1             171.23  34.400000               3       1  \n",
       "1665                0             174.12  24.000000               2       1  "
      ]
     },
     "execution_count": 13,
     "metadata": {},
     "output_type": "execute_result"
    }
   ],
   "source": [
    "data.head()"
   ]
  },
  {
   "cell_type": "code",
   "execution_count": 14,
   "metadata": {},
   "outputs": [
    {
     "data": {
      "text/html": [
       "<div>\n",
       "<style scoped>\n",
       "    .dataframe tbody tr th:only-of-type {\n",
       "        vertical-align: middle;\n",
       "    }\n",
       "\n",
       "    .dataframe tbody tr th {\n",
       "        vertical-align: top;\n",
       "    }\n",
       "\n",
       "    .dataframe thead th {\n",
       "        text-align: right;\n",
       "    }\n",
       "</style>\n",
       "<table border=\"1\" class=\"dataframe\">\n",
       "  <thead>\n",
       "    <tr style=\"text-align: right;\">\n",
       "      <th></th>\n",
       "      <th>gender</th>\n",
       "      <th>age</th>\n",
       "      <th>hypertension</th>\n",
       "      <th>alcohol_intake</th>\n",
       "      <th>heart_disease</th>\n",
       "      <th>Residence_type</th>\n",
       "      <th>avg_glucose_level</th>\n",
       "      <th>bmi</th>\n",
       "      <th>smoking_status</th>\n",
       "    </tr>\n",
       "    <tr>\n",
       "      <th>id</th>\n",
       "      <th></th>\n",
       "      <th></th>\n",
       "      <th></th>\n",
       "      <th></th>\n",
       "      <th></th>\n",
       "      <th></th>\n",
       "      <th></th>\n",
       "      <th></th>\n",
       "      <th></th>\n",
       "    </tr>\n",
       "  </thead>\n",
       "  <tbody>\n",
       "    <tr>\n",
       "      <th>9046</th>\n",
       "      <td>1.0</td>\n",
       "      <td>0.816895</td>\n",
       "      <td>0.858974</td>\n",
       "      <td>0.333333</td>\n",
       "      <td>1.0</td>\n",
       "      <td>1.0</td>\n",
       "      <td>0.801173</td>\n",
       "      <td>0.301260</td>\n",
       "      <td>0.333333</td>\n",
       "    </tr>\n",
       "    <tr>\n",
       "      <th>51676</th>\n",
       "      <td>0.0</td>\n",
       "      <td>0.743652</td>\n",
       "      <td>0.782051</td>\n",
       "      <td>0.666667</td>\n",
       "      <td>0.0</td>\n",
       "      <td>0.0</td>\n",
       "      <td>0.678875</td>\n",
       "      <td>0.215380</td>\n",
       "      <td>0.666667</td>\n",
       "    </tr>\n",
       "    <tr>\n",
       "      <th>31112</th>\n",
       "      <td>1.0</td>\n",
       "      <td>0.975586</td>\n",
       "      <td>0.653846</td>\n",
       "      <td>0.500000</td>\n",
       "      <td>1.0</td>\n",
       "      <td>0.0</td>\n",
       "      <td>0.234159</td>\n",
       "      <td>0.254296</td>\n",
       "      <td>0.666667</td>\n",
       "    </tr>\n",
       "    <tr>\n",
       "      <th>60182</th>\n",
       "      <td>0.0</td>\n",
       "      <td>0.597168</td>\n",
       "      <td>0.717949</td>\n",
       "      <td>0.333333</td>\n",
       "      <td>0.0</td>\n",
       "      <td>1.0</td>\n",
       "      <td>0.535793</td>\n",
       "      <td>0.276060</td>\n",
       "      <td>1.000000</td>\n",
       "    </tr>\n",
       "    <tr>\n",
       "      <th>1665</th>\n",
       "      <td>0.0</td>\n",
       "      <td>0.963379</td>\n",
       "      <td>0.750000</td>\n",
       "      <td>0.500000</td>\n",
       "      <td>0.0</td>\n",
       "      <td>0.0</td>\n",
       "      <td>0.549141</td>\n",
       "      <td>0.156930</td>\n",
       "      <td>0.666667</td>\n",
       "    </tr>\n",
       "  </tbody>\n",
       "</table>\n",
       "</div>"
      ],
      "text/plain": [
       "       gender       age  hypertension  alcohol_intake  heart_disease  \\\n",
       "id                                                                     \n",
       "9046      1.0  0.816895      0.858974        0.333333            1.0   \n",
       "51676     0.0  0.743652      0.782051        0.666667            0.0   \n",
       "31112     1.0  0.975586      0.653846        0.500000            1.0   \n",
       "60182     0.0  0.597168      0.717949        0.333333            0.0   \n",
       "1665      0.0  0.963379      0.750000        0.500000            0.0   \n",
       "\n",
       "       Residence_type  avg_glucose_level       bmi  smoking_status  \n",
       "id                                                                  \n",
       "9046              1.0           0.801173  0.301260        0.333333  \n",
       "51676             0.0           0.678875  0.215380        0.666667  \n",
       "31112             0.0           0.234159  0.254296        0.666667  \n",
       "60182             1.0           0.535793  0.276060        1.000000  \n",
       "1665              0.0           0.549141  0.156930        0.666667  "
      ]
     },
     "execution_count": 14,
     "metadata": {},
     "output_type": "execute_result"
    }
   ],
   "source": [
    "X.head()"
   ]
  },
  {
   "cell_type": "code",
   "execution_count": 15,
   "metadata": {},
   "outputs": [],
   "source": [
    "X=np.array(X)"
   ]
  },
  {
   "cell_type": "code",
   "execution_count": 16,
   "metadata": {},
   "outputs": [],
   "source": [
    "Y= np.array(Y)"
   ]
  },
  {
   "cell_type": "code",
   "execution_count": 17,
   "metadata": {},
   "outputs": [],
   "source": [
    "from imblearn.over_sampling import SMOTE \n",
    "sm = SMOTE(random_state = 2) \n",
    "X_res, Y_res = sm.fit_sample(X,Y.ravel())"
   ]
  },
  {
   "cell_type": "code",
   "execution_count": 18,
   "metadata": {},
   "outputs": [
    {
     "name": "stdout",
     "output_type": "stream",
     "text": [
      "After OverSampling, counts of label '1': 2751\n",
      "After OverSampling, counts of label '0': 2751\n"
     ]
    }
   ],
   "source": [
    "print(\"After OverSampling, counts of label '1': {}\".format(sum(Y_res == 1))) \n",
    "print(\"After OverSampling, counts of label '0': {}\".format(sum(Y_res == 0))) "
   ]
  },
  {
   "cell_type": "code",
   "execution_count": 19,
   "metadata": {},
   "outputs": [],
   "source": [
    "import tensorflow as tf\n",
    "from tensorflow import keras\n",
    "from tensorflow.keras.models import Sequential\n",
    "from tensorflow.keras.layers import Activation,Dense\n",
    "from tensorflow.keras.optimizers import Adam\n",
    "from tensorflow.keras.metrics import categorical_crossentropy\n",
    "from tensorflow.keras.metrics import binary_crossentropy"
   ]
  },
  {
   "cell_type": "code",
   "execution_count": 20,
   "metadata": {},
   "outputs": [],
   "source": [
    "model = Sequential([\n",
    "    Dense(16, input_shape=(X_res.shape[1],), activation='relu'),\n",
    "    Dense(32, activation='relu'),\n",
    "    Dense(2, activation='softmax'),    \n",
    "])"
   ]
  },
  {
   "cell_type": "code",
   "execution_count": 21,
   "metadata": {},
   "outputs": [
    {
     "name": "stdout",
     "output_type": "stream",
     "text": [
      "Model: \"sequential\"\n",
      "_________________________________________________________________\n",
      "Layer (type)                 Output Shape              Param #   \n",
      "=================================================================\n",
      "dense (Dense)                (None, 16)                160       \n",
      "_________________________________________________________________\n",
      "dense_1 (Dense)              (None, 32)                544       \n",
      "_________________________________________________________________\n",
      "dense_2 (Dense)              (None, 2)                 66        \n",
      "=================================================================\n",
      "Total params: 770\n",
      "Trainable params: 770\n",
      "Non-trainable params: 0\n",
      "_________________________________________________________________\n"
     ]
    }
   ],
   "source": [
    "model.summary()"
   ]
  },
  {
   "cell_type": "markdown",
   "metadata": {},
   "source": [
    "# Compiling model"
   ]
  },
  {
   "cell_type": "code",
   "execution_count": 22,
   "metadata": {
    "scrolled": true
   },
   "outputs": [],
   "source": [
    "model.compile(optimizer=Adam(learning_rate = 0.0001),\n",
    "             loss='sparse_categorical_crossentropy',\n",
    "             metrics=['accuracy'])"
   ]
  },
  {
   "cell_type": "markdown",
   "metadata": {},
   "source": [
    "# fit Function"
   ]
  },
  {
   "cell_type": "code",
   "execution_count": 23,
   "metadata": {},
   "outputs": [
    {
     "name": "stdout",
     "output_type": "stream",
     "text": [
      "Train on 4951 samples, validate on 551 samples\n",
      "Epoch 1/30\n",
      "4951/4951 - 2s - loss: 0.6934 - accuracy: 0.5391 - val_loss: 0.6777 - val_accuracy: 0.6352\n",
      "Epoch 2/30\n",
      "4951/4951 - 1s - loss: 0.6521 - accuracy: 0.6669 - val_loss: 0.7065 - val_accuracy: 0.4864\n",
      "Epoch 3/30\n",
      "4951/4951 - 1s - loss: 0.6141 - accuracy: 0.7223 - val_loss: 0.6517 - val_accuracy: 0.6642\n",
      "Epoch 4/30\n",
      "4951/4951 - 1s - loss: 0.5715 - accuracy: 0.7461 - val_loss: 0.6180 - val_accuracy: 0.6842\n",
      "Epoch 5/30\n",
      "4951/4951 - 1s - loss: 0.5356 - accuracy: 0.7566 - val_loss: 0.5815 - val_accuracy: 0.7296\n",
      "Epoch 6/30\n",
      "4951/4951 - 2s - loss: 0.5118 - accuracy: 0.7683 - val_loss: 0.5216 - val_accuracy: 0.7913\n",
      "Epoch 7/30\n",
      "4951/4951 - 1s - loss: 0.4955 - accuracy: 0.7732 - val_loss: 0.5239 - val_accuracy: 0.7840\n",
      "Epoch 8/30\n",
      "4951/4951 - 1s - loss: 0.4847 - accuracy: 0.7804 - val_loss: 0.5080 - val_accuracy: 0.7985\n",
      "Epoch 9/30\n",
      "4951/4951 - 1s - loss: 0.4765 - accuracy: 0.7841 - val_loss: 0.5142 - val_accuracy: 0.8004\n",
      "Epoch 10/30\n",
      "4951/4951 - 1s - loss: 0.4699 - accuracy: 0.7875 - val_loss: 0.5175 - val_accuracy: 0.7949\n",
      "Epoch 11/30\n",
      "4951/4951 - 1s - loss: 0.4652 - accuracy: 0.7879 - val_loss: 0.5044 - val_accuracy: 0.8022\n",
      "Epoch 12/30\n",
      "4951/4951 - 1s - loss: 0.4613 - accuracy: 0.7914 - val_loss: 0.5171 - val_accuracy: 0.7931\n",
      "Epoch 13/30\n",
      "4951/4951 - 1s - loss: 0.4585 - accuracy: 0.7897 - val_loss: 0.5000 - val_accuracy: 0.8004\n",
      "Epoch 14/30\n",
      "4951/4951 - 1s - loss: 0.4558 - accuracy: 0.7914 - val_loss: 0.4748 - val_accuracy: 0.8258\n",
      "Epoch 15/30\n",
      "4951/4951 - 1s - loss: 0.4540 - accuracy: 0.7928 - val_loss: 0.4839 - val_accuracy: 0.8185\n",
      "Epoch 16/30\n",
      "4951/4951 - 1s - loss: 0.4527 - accuracy: 0.7930 - val_loss: 0.4876 - val_accuracy: 0.8131\n",
      "Epoch 17/30\n",
      "4951/4951 - 1s - loss: 0.4510 - accuracy: 0.7922 - val_loss: 0.5086 - val_accuracy: 0.8004\n",
      "Epoch 18/30\n",
      "4951/4951 - 1s - loss: 0.4499 - accuracy: 0.7932 - val_loss: 0.4759 - val_accuracy: 0.8203\n",
      "Epoch 19/30\n",
      "4951/4951 - 1s - loss: 0.4489 - accuracy: 0.7972 - val_loss: 0.4919 - val_accuracy: 0.8131\n",
      "Epoch 20/30\n",
      "4951/4951 - 1s - loss: 0.4480 - accuracy: 0.7940 - val_loss: 0.4664 - val_accuracy: 0.8221\n",
      "Epoch 21/30\n",
      "4951/4951 - 1s - loss: 0.4475 - accuracy: 0.7936 - val_loss: 0.5133 - val_accuracy: 0.8058\n",
      "Epoch 22/30\n",
      "4951/4951 - 1s - loss: 0.4470 - accuracy: 0.7958 - val_loss: 0.4976 - val_accuracy: 0.8131\n",
      "Epoch 23/30\n",
      "4951/4951 - 1s - loss: 0.4463 - accuracy: 0.7946 - val_loss: 0.4627 - val_accuracy: 0.8276\n",
      "Epoch 24/30\n",
      "4951/4951 - 1s - loss: 0.4459 - accuracy: 0.7966 - val_loss: 0.4816 - val_accuracy: 0.8221\n",
      "Epoch 25/30\n",
      "4951/4951 - 1s - loss: 0.4455 - accuracy: 0.7952 - val_loss: 0.4743 - val_accuracy: 0.8258\n",
      "Epoch 26/30\n",
      "4951/4951 - 1s - loss: 0.4451 - accuracy: 0.7952 - val_loss: 0.4739 - val_accuracy: 0.8240\n",
      "Epoch 27/30\n",
      "4951/4951 - 1s - loss: 0.4444 - accuracy: 0.7966 - val_loss: 0.4619 - val_accuracy: 0.8312\n",
      "Epoch 28/30\n",
      "4951/4951 - 1s - loss: 0.4438 - accuracy: 0.7946 - val_loss: 0.4603 - val_accuracy: 0.8330\n",
      "Epoch 29/30\n",
      "4951/4951 - 1s - loss: 0.4435 - accuracy: 0.7966 - val_loss: 0.4636 - val_accuracy: 0.8294\n",
      "Epoch 30/30\n",
      "4951/4951 - 1s - loss: 0.4431 - accuracy: 0.7988 - val_loss: 0.4954 - val_accuracy: 0.8131\n"
     ]
    },
    {
     "data": {
      "text/plain": [
       "<tensorflow.python.keras.callbacks.History at 0x198222ab278>"
      ]
     },
     "execution_count": 23,
     "metadata": {},
     "output_type": "execute_result"
    }
   ],
   "source": [
    "model.fit(X_res,Y_res,validation_split=0.1,batch_size=10,epochs=30,shuffle=True,verbose=2)"
   ]
  },
  {
   "cell_type": "code",
   "execution_count": 42,
   "metadata": {},
   "outputs": [],
   "source": [
    "X_Testing2 = np.array([[1, 55.0, 121.0, 2.0, 0,0,111.19,39.67,0]])"
   ]
  },
  {
   "cell_type": "code",
   "execution_count": 43,
   "metadata": {},
   "outputs": [
    {
     "name": "stdout",
     "output_type": "stream",
     "text": [
      "0\n"
     ]
    }
   ],
   "source": [
    "X_Testing2=X_Testing2.reshape(1,-1)\n",
    "X_Testing2=x_scaler.transform(X_Testing2)\n",
    "Y_pred=model.predict(X_Testing2)\n",
    "print(np.argmax(Y_pred[0]))"
   ]
  },
  {
   "cell_type": "code",
   "execution_count": 44,
   "metadata": {},
   "outputs": [],
   "source": [
    "X_Testing = np.array([[1, 67.0, 147.0, 2.0, 1,1,228.69,36.60,1]])"
   ]
  },
  {
   "cell_type": "code",
   "execution_count": 45,
   "metadata": {},
   "outputs": [
    {
     "name": "stdout",
     "output_type": "stream",
     "text": [
      "1\n"
     ]
    }
   ],
   "source": [
    "X_Testing=X_Testing.reshape(1,-1)\n",
    "X_Testing=x_scaler.transform(X_Testing)\n",
    "Y_pred1=model.predict(X_Testing)\n",
    "print(np.argmax(Y_pred1[0]))"
   ]
  },
  {
   "cell_type": "code",
   "execution_count": 46,
   "metadata": {},
   "outputs": [],
   "source": [
    "X_Testing1 = np.array([[0, 71.0, 144.0, 2.0, 0,1,93.28,34.7,2]])"
   ]
  },
  {
   "cell_type": "code",
   "execution_count": 47,
   "metadata": {},
   "outputs": [
    {
     "name": "stdout",
     "output_type": "stream",
     "text": [
      "1\n"
     ]
    }
   ],
   "source": [
    "X_Testing1=X_Testing1.reshape(1,-1)\n",
    "X_Testing1=x_scaler.transform(X_Testing1)\n",
    "Y_pred2=model.predict(X_Testing1)\n",
    "print(np.argmax(Y_pred2[0]))"
   ]
  },
  {
   "cell_type": "code",
   "execution_count": 48,
   "metadata": {},
   "outputs": [],
   "source": [
    "X_Testing3 = np.array([[1, 80, 115, 3, 1,0,105.92,32.5,2]])"
   ]
  },
  {
   "cell_type": "code",
   "execution_count": 49,
   "metadata": {
    "scrolled": true
   },
   "outputs": [
    {
     "name": "stdout",
     "output_type": "stream",
     "text": [
      "1\n"
     ]
    }
   ],
   "source": [
    "X_Testing3=X_Testing3.reshape(1,-1)\n",
    "X_Testing3=x_scaler.transform(X_Testing3)\n",
    "Y_pred3=model.predict(X_Testing3)\n",
    "print(np.argmax(Y_pred3[0]))"
   ]
  },
  {
   "cell_type": "code",
   "execution_count": 50,
   "metadata": {},
   "outputs": [],
   "source": [
    "X_Testing4= np.array([[1, 5,80,0,0,0,122.19,35.0,0]])"
   ]
  },
  {
   "cell_type": "code",
   "execution_count": 51,
   "metadata": {},
   "outputs": [
    {
     "name": "stdout",
     "output_type": "stream",
     "text": [
      "0\n"
     ]
    }
   ],
   "source": [
    "X_Testing4=X_Testing4.reshape(1,-1)\n",
    "X_Testing4=x_scaler.transform(X_Testing4)\n",
    "Y_pred4=model.predict(X_Testing4)\n",
    "print(np.argmax(Y_pred4[0]))"
   ]
  },
  {
   "cell_type": "code",
   "execution_count": 52,
   "metadata": {},
   "outputs": [],
   "source": [
    "X_Testing5= np.array([[1, 6,85,0,0,0,100,22.0,2]])"
   ]
  },
  {
   "cell_type": "code",
   "execution_count": 53,
   "metadata": {},
   "outputs": [
    {
     "name": "stdout",
     "output_type": "stream",
     "text": [
      "0\n"
     ]
    }
   ],
   "source": [
    "X_Testing5=X_Testing5.reshape(1,-1)\n",
    "X_Testing5=x_scaler.transform(X_Testing5)\n",
    "Y_pred5=model.predict(X_Testing5)\n",
    "print(np.argmax(Y_pred5[0]))"
   ]
  },
  {
   "cell_type": "code",
   "execution_count": 54,
   "metadata": {},
   "outputs": [],
   "source": [
    "X_Testing6 = np.array([[0, 78, 140, 5, 1,1,62.12,36.60,3]])"
   ]
  },
  {
   "cell_type": "code",
   "execution_count": 55,
   "metadata": {},
   "outputs": [
    {
     "name": "stdout",
     "output_type": "stream",
     "text": [
      "1\n"
     ]
    }
   ],
   "source": [
    "X_Testing6=X_Testing6.reshape(1,-1)\n",
    "X_Testing6=x_scaler.transform(X_Testing6)\n",
    "Y_pred6=model.predict(X_Testing6)\n",
    "print(np.argmax(Y_pred6[0]))"
   ]
  },
  {
   "cell_type": "code",
   "execution_count": null,
   "metadata": {},
   "outputs": [],
   "source": []
  },
  {
   "cell_type": "code",
   "execution_count": null,
   "metadata": {},
   "outputs": [],
   "source": []
  },
  {
   "cell_type": "code",
   "execution_count": null,
   "metadata": {},
   "outputs": [],
   "source": []
  },
  {
   "cell_type": "code",
   "execution_count": 64,
   "metadata": {},
   "outputs": [],
   "source": []
  },
  {
   "cell_type": "code",
   "execution_count": 65,
   "metadata": {},
   "outputs": [
    {
     "data": {
      "text/plain": [
       "(1, 2)"
      ]
     },
     "execution_count": 65,
     "metadata": {},
     "output_type": "execute_result"
    }
   ],
   "source": [
    "Y_predict3 =model.predict(X_Testing3)\n",
    "Y_predict3.shape"
   ]
  },
  {
   "cell_type": "code",
   "execution_count": 66,
   "metadata": {},
   "outputs": [
    {
     "name": "stdout",
     "output_type": "stream",
     "text": [
      "Expected Output [1.]\n"
     ]
    }
   ],
   "source": [
    "print('Expected Output', Y_predict1[:,0])"
   ]
  },
  {
   "cell_type": "code",
   "execution_count": 1,
   "metadata": {},
   "outputs": [
    {
     "ename": "NameError",
     "evalue": "name 'data' is not defined",
     "output_type": "error",
     "traceback": [
      "\u001b[1;31m---------------------------------------------------------------------------\u001b[0m",
      "\u001b[1;31mNameError\u001b[0m                                 Traceback (most recent call last)",
      "\u001b[1;32m<ipython-input-1-0b73fe40d24a>\u001b[0m in \u001b[0;36m<module>\u001b[1;34m\u001b[0m\n\u001b[1;32m----> 1\u001b[1;33m \u001b[0mdata\u001b[0m\u001b[1;33m.\u001b[0m\u001b[0mtail\u001b[0m\u001b[1;33m(\u001b[0m\u001b[1;33m)\u001b[0m\u001b[1;33m\u001b[0m\u001b[0m\n\u001b[0m",
      "\u001b[1;31mNameError\u001b[0m: name 'data' is not defined"
     ]
    }
   ],
   "source": []
  },
  {
   "cell_type": "code",
   "execution_count": null,
   "metadata": {},
   "outputs": [],
   "source": []
  }
 ],
 "metadata": {
  "kernelspec": {
   "display_name": "Python 3",
   "language": "python",
   "name": "python3"
  },
  "language_info": {
   "codemirror_mode": {
    "name": "ipython",
    "version": 3
   },
   "file_extension": ".py",
   "mimetype": "text/x-python",
   "name": "python",
   "nbconvert_exporter": "python",
   "pygments_lexer": "ipython3",
   "version": "3.6.5"
  }
 },
 "nbformat": 4,
 "nbformat_minor": 2
}
